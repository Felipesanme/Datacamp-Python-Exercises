{
 "metadata": {
  "language_info": {
   "codemirror_mode": {
    "name": "ipython",
    "version": 3
   },
   "file_extension": ".py",
   "mimetype": "text/x-python",
   "name": "python",
   "nbconvert_exporter": "python",
   "pygments_lexer": "ipython3",
   "version": "3.8.5-final"
  },
  "orig_nbformat": 2,
  "kernelspec": {
   "name": "Python 3.8.5 64-bit (conda)",
   "display_name": "Python 3.8.5 64-bit (conda)",
   "metadata": {
    "interpreter": {
     "hash": "b7a0b851aee0a65f41800aac5cce933cdf7bcc53a39aa118c48328336c2f0e3b"
    }
   }
  }
 },
 "nbformat": 4,
 "nbformat_minor": 2,
 "cells": [
  {
   "cell_type": "code",
   "execution_count": 6,
   "metadata": {},
   "outputs": [
    {
     "output_type": "stream",
     "name": "stdout",
     "text": [
      "<class 'pandas.core.frame.DataFrame'>\nRangeIndex: 10037 entries, 0 to 10036\nData columns (total 12 columns):\n #   Column               Non-Null Count  Dtype \n---  ------               --------------  ----- \n 0   user_id              10037 non-null  object\n 1   date_served          10021 non-null  object\n 2   marketing_channel    10022 non-null  object\n 3   variant              10037 non-null  object\n 4   converted            10022 non-null  object\n 5   language_displayed   10037 non-null  object\n 6   language_preferred   10037 non-null  object\n 7   age_group            10037 non-null  object\n 8   date_subscribed      1856 non-null   object\n 9   date_canceled        577 non-null    object\n 10  subscribing_channel  1856 non-null   object\n 11  is_retained          1856 non-null   object\ndtypes: object(12)\nmemory usage: 941.1+ KB\n"
     ]
    }
   ],
   "source": [
    "# Import pandas into the environment\n",
    "import pandas as pd\n",
    "\n",
    "# Import marketing.csv \n",
    "marketing = pd.read_csv('C:\\src\\SANDBOX\\LEARNING\\Datacamp\\Marketing Analytics with Python\\Analyzing Marketing Campaigns with pandas\\marketing.csv')\n",
    "marketing.head()\n",
    "\n",
    "marketing.info()"
   ]
  },
  {
   "cell_type": "code",
   "execution_count": 7,
   "metadata": {},
   "outputs": [
    {
     "output_type": "execute_result",
     "data": {
      "text/plain": [
       "Index(['user_id', 'date_served', 'marketing_channel', 'variant', 'converted',\n",
       "       'language_displayed', 'language_preferred', 'age_group',\n",
       "       'date_subscribed', 'date_canceled', 'subscribing_channel',\n",
       "       'is_retained'],\n",
       "      dtype='object')"
      ]
     },
     "metadata": {},
     "execution_count": 7
    }
   ],
   "source": [
    "marketing.columns"
   ]
  },
  {
   "cell_type": "code",
   "execution_count": null,
   "metadata": {},
   "outputs": [],
   "source": []
  }
 ]
}